{
 "cells": [
  {
   "cell_type": "markdown",
   "metadata": {},
   "source": [
    "# TTIC 31020 Introduction to Machine Learning: Learning Gaussian Mixture Models with Expectation-Maximization\n",
    "---\n",
    "\n",
    "In this notebook you will implement the EM algorithm to train mixtures of Gaussians, with the goal of performing classification on the Fashion MNIST dataset. Fashion MNIST is composed of 28 x 28 grayscale images, split into 50,000 training and 10,000 validation images."
   ]
  },
  {
   "cell_type": "code",
   "execution_count": 1,
   "metadata": {},
   "outputs": [],
   "source": [
    "from __future__ import division\n",
    "import time\n",
    "from scipy.special import logsumexp  #to deal with potential overflow issues\n",
    "import matplotlib as mpl\n",
    "import numpy as np\n",
    "import matplotlib.pyplot as plt\n",
    "import csv\n",
    "from skimage.transform import resize\n",
    "\n",
    "%matplotlib inline\n",
    "\n",
    "class_names = ['tshirt/top', 'trouser', 'pullover', 'dress', 'coat', 'sandal', 'shirt', 'sneaker', 'bag', 'ankle boot']\n",
    "        \n",
    "def read_fMNIST(dataset = \"training\", dim=16):\n",
    "    \"\"\"\n",
    "    reading in the \"Fashion MNIST\" data\n",
    "    this function allows specification of the part to be read (training/validation)\n",
    "    Dimension: dim specifies the target image dimension (default is to reduce images to 16x16)\n",
    "    \"\"\"\n",
    "    \n",
    "    #Figure out the name of the file to load    \n",
    "    if dataset.lower() == \"training\":\n",
    "        file_name_suffix = 'Tr'\n",
    "    \n",
    "    elif dataset.lower() == \"validation\":\n",
    "        file_name_suffix = 'Vl'\n",
    "\n",
    "    else:\n",
    "        print(\"dataset must be 'validation' or 'training'\")\n",
    "        raise ValueError\n",
    "    \n",
    "    #Load the appropriate files\n",
    "    X = np.load('./x'+file_name_suffix+'.npy')\n",
    "    y = np.load('./y'+file_name_suffix+'.npy')\n",
    "    \n",
    "    X = reduceImg(X,dim)\n",
    "    \n",
    "    #Return the data\n",
    "    return X,y\n",
    "         \n",
    "            \n",
    "def showImage(image,ax=None):\n",
    "    \"\"\"\n",
    "    Render a given numpy.uint8 2D array of pixel data.\n",
    "    \"\"\"\n",
    "    if len(image.shape) > 1:\n",
    "        n=image.shape[0]\n",
    "    else:\n",
    "        n=int(np.sqrt(image.shape[0]))\n",
    "        image = image[-n**2:]\n",
    "        image = image.reshape(n,n)\n",
    "\n",
    "    \n",
    "    if ax==None:\n",
    "        fig = plt.figure()\n",
    "        ax = fig.add_subplot(1,1,1)\n",
    "    imgplot = ax.imshow(image, cmap=mpl.cm.Greys)\n",
    "    imgplot.set_interpolation('nearest')\n",
    "    ax.xaxis.set_ticks_position('top')\n",
    "    ax.yaxis.set_ticks_position('left')\n",
    "    plt.axis('off')\n",
    "    \n",
    "\n",
    "def reduceImg(X,dnew):\n",
    "    # image size in X is hardcoded = 28 (not best practice!)\n",
    "    xNew=np.zeros((X.shape[0],dnew*dnew))\n",
    "    for i in range(X.shape[0]):\n",
    "        xNew[i]=resize(X[i].reshape(28,28),(dnew,dnew), mode='constant').flatten()\n",
    "    return xNew"
   ]
  },
  {
   "cell_type": "code",
   "execution_count": 2,
   "metadata": {
    "scrolled": false
   },
   "outputs": [
    {
     "name": "stdout",
     "output_type": "stream",
     "text": [
      "(50000, 256) (10000, 256)\n"
     ]
    }
   ],
   "source": [
    "# Load training data\n",
    "xTrain, yTrain = read_fMNIST('training')\n",
    "# Load validation data\n",
    "xVal, yVal = read_fMNIST('validation')\n",
    "\n",
    "# scale pixel values to [0,1] to make things better-behaved numerically\n",
    "if xTrain[0].max()>1:\n",
    "    print('normalizing...')\n",
    "    xTrain=xTrain/255\n",
    "    xVal=xVal/255\n",
    "\n",
    "print(xTrain.shape, xVal.shape)"
   ]
  },
  {
   "cell_type": "code",
   "execution_count": 3,
   "metadata": {},
   "outputs": [
    {
     "data": {
      "image/png": "[encoded data removed]",
      "text/plain": [
       "<Figure size 432x288 with 10 Axes>"
      ]
     },
     "metadata": {
      "needs_background": "light"
     },
     "output_type": "display_data"
    }
   ],
   "source": [
    "for c in range(10):\n",
    "    ax=plt.subplot(2,5,c+1)\n",
    "    ax.clear()\n",
    "    idx = np.argmax(np.argmax(yTrain,axis=1)==c)\n",
    "    showImage(xTrain[idx],ax)\n",
    "    ax.set_title(class_names[c])"
   ]
  },
  {
   "cell_type": "code",
   "execution_count": 4,
   "metadata": {},
   "outputs": [],
   "source": [
    "class GaussianMixtureModel(object):\n",
    "    \"\"\"Gaussian Mixture Model\"\"\"\n",
    "    \n",
    "    def __init__(self, X, num_comp, max_iter=50, eps=10**(-4), cov_type='diag'):\n",
    "        \"\"\"Initialize the GMM model.\n",
    "        num_feat: Feature dimension of our data\n",
    "        num_comp: Number of components to fit in the mixture model.\n",
    "        max_iter: Maximum number of EM iterations.\n",
    "        cov_type: Type of covariance matrix used by multivariate Gaussian models ('diag': diagonal, otherwise full)\n",
    "        \"\"\"\n",
    "        N,self.nf = X.shape\n",
    "        self.nc = num_comp\n",
    "        self.max_iter = max_iter\n",
    "        self.eps = eps\n",
    "        self.cov_type = cov_type\n",
    "        \n",
    "        # Initialization: feel free to improve this.\n",
    "        # Note that we are passing the data X so you can use it to try smarter init strategies\n",
    "        \n",
    "        # initialize the parameters\n",
    "        self.pi = np.ones(self.nc) * (1 / self.nc) \n",
    "\n",
    "        np.random.shuffle(X)\n",
    "        X2 = np.array_split(X, self.nc)\n",
    "        temp = t = [i.mean(axis=0) for i in X2]\n",
    "        self.mu = np.vstack(t)\n",
    "\n",
    "        self.sigma = np.zeros((self.nc, self.nf, self.nf))\n",
    "        for i in range(self.nc):\n",
    "            self.sigma[i] = np.eye(self.nf) + self.eps\n",
    "        \n",
    "    def Estep(self, X):\n",
    "        \"\"\"Update the soft weights and calculate likelihood in the process.\"\"\"\n",
    "        log_gamma = np.zeros((X.shape[0], self.nc))\n",
    "        log_pi = np.log(self.pi)\n",
    "        for comp in range(self.nc):\n",
    "            \n",
    "            # put here code you need to compute log_gamma as explained below; everything else will follow\n",
    "            # this is the unnormalized value of responsibilities, i.e., log ( pi_c*p(x|c) )\n",
    "            sigma_inv = np.linalg.inv(self.sigma[comp])\n",
    "            sigma_det = np.linalg.slogdet(self.sigma[comp])[1]\n",
    "            shift_data = X - self.mu[comp]\n",
    "            exp_val = np.sum(np.dot(shift_data, sigma_inv) * shift_data, axis=1)\n",
    "            value = -1/2 * (self.nf * np.log(2*np.pi) + sigma_det) - 1/2 * exp_val\n",
    "            log_gamma[:, comp] = log_pi[comp] + value\n",
    "\n",
    "        # now you can use the values of log_gamma to calculate log-likelihood, responsibilities, etc\n",
    "        log_prob_per_instance = logsumexp(log_gamma, axis=1, keepdims=True)\n",
    "        log_likelihood = np.mean(log_prob_per_instance)\n",
    "        gamma = np.exp(log_gamma - log_prob_per_instance)\n",
    "        return gamma, log_likelihood, log_prob_per_instance\n",
    "        \n",
    "    def Mstep(self, X, gamma):\n",
    "        \"\"\"Update the model params given the soft weights.\"\"\"\n",
    "        # Calculate unnormalized pi with epsilon added to avoid cases where a component gets no instances\n",
    "        unnorm_pi = np.sum(gamma, axis=0) + self.eps # shape = (nc,);\n",
    "        # Update the overall soft assignments to different components\n",
    "        self.pi = unnorm_pi/np.sum(unnorm_pi)\n",
    "        \n",
    "        for comp in range(self.nc):\n",
    "            # Scale the different instances by the soft weight for the current component\n",
    "            resp_data = np.dot(np.diag(gamma[:, comp]), X)\n",
    "            # Normalize the responsible data by total soft weight to get mean\n",
    "            self.mu[comp] = np.sum(resp_data, axis=0)/unnorm_pi[comp]\n",
    "            \n",
    "            shift_data = X - self.mu[comp]\n",
    "            # Captures the multiplication of gamma in covariance calculation\n",
    "            resp_scaled_shift_data = np.dot(np.diag(gamma[:, comp]), shift_data)\n",
    "            \n",
    "            if self.cov_type == 'diag':\n",
    "                # assume that the covariance matrices are diagonal\n",
    "                # remember to guard against collapse (sigmas too close to zero)\n",
    "                self.sigma[comp] = np.sum(resp_scaled_shift_data * shift_data, axis=0)/unnorm_pi[comp] + np.eye(self.nf)*self.eps\n",
    "            else:\n",
    "                # do the full rank covariance matrix calculation \n",
    "                # here, too, you need to consider some protection against collapsing covariance matrices     \n",
    "                self.sigma[comp] = np.sum(resp_scaled_shift_data @ shift_data.T)/unnorm_pi[comp] + np.eye(self.nf)*self.eps\n",
    "\n",
    "    \n",
    "    def train(self, X,verbose='final'):\n",
    "        \"\"\"Train the model using EM.\"\"\"\n",
    "        prev_likelihood = -np.inf  # Keep track of previous log likelihood\n",
    "        gamma, log_likelihood, _ = self.Estep(X)  \n",
    "        for i in range(self.max_iter):\n",
    "            self.Mstep(X, gamma)  # M-step\n",
    "            gamma, log_likelihood, _ = self.Estep(X)  \n",
    "            if np.isclose(log_likelihood,prev_likelihood):\n",
    "                # Convergence = no significant increase in likelihood after an iteration.\n",
    "                # Feel free to try other stopping criteria\n",
    "                break\n",
    "            else:\n",
    "                prev_likelihood = log_likelihood\n",
    "            if verbose == 'iter':\n",
    "                print (\"   Iteration: %d, log-likelihood: %.4f\" %(i, log_likelihood))\n",
    "            \n",
    "        if verbose == 'final':\n",
    "                print (\"Iteration %d (final), log-likelihood: %.4f\" %(i, log_likelihood))\n",
    "                \n",
    "                \n",
    "    def trainFast(self,X,verbose='final',rs=[.03,.1,.3,1]):\n",
    "        \"\"\"\n",
    "        Train the model using EM, gradually fitting larger portion of the data\n",
    "        rs specifies the fractions of the full data set size to use\n",
    "        Note: by making the last elements of rs less than 1 you can effectively train on a subset of data\n",
    "        (examples past the first r*X.shape[0] won't be seen at all)\n",
    "        \"\"\"\n",
    "        for r in rs:\n",
    "            self.train(X[0:int(np.floor(X.shape[0]*r))],verbose='final')\n",
    "        "
   ]
  },
  {
   "cell_type": "code",
   "execution_count": 5,
   "metadata": {},
   "outputs": [],
   "source": [
    "# organize data by class\n",
    "classData=dict()\n",
    "for y in range(10):\n",
    "    classData[y]=xTrain[np.argmax(yTrain,axis=1)==y]"
   ]
  },
  {
   "cell_type": "code",
   "execution_count": 6,
   "metadata": {},
   "outputs": [],
   "source": [
    "def get_accuracy(models, X,y):\n",
    "    \"\"\"\n",
    "    Compute accuracy of the GMM generative classifier on (X,y).\n",
    "    model[c] is the GMM for class c\n",
    "    Returns (acc, yhat) where yhat are the predictions (in label form)\n",
    "    \"\"\"\n",
    "    C = len(models)\n",
    "    N = X.shape[0]\n",
    "    logLik = np.zeros((N,C))\n",
    "    for c in range(C):\n",
    "        logLik[:,c] = np.squeeze(models[c].Estep(X)[2])\n",
    "    \n",
    "    yhat = np.argmax(logLik,axis=1)\n",
    "    acc = np.mean(yhat==np.argmax(y,axis=1))\n",
    "    return acc, yhat"
   ]
  },
  {
   "cell_type": "code",
   "execution_count": 7,
   "metadata": {},
   "outputs": [],
   "source": [
    "def showMeans(gmmModels,c,handles=False):\n",
    "    \"\"\"\n",
    "    Display means for Gaussian components of gmmModels for class c\n",
    "    \"\"\"\n",
    "    k = gmmModels[c].nc\n",
    "    fig,axes = plt.subplots(1,k)\n",
    "    \n",
    "    for j in range(k):\n",
    "        if k==1:\n",
    "            ax=axes\n",
    "        else:\n",
    "            ax=axes[j]\n",
    "        showImage(gmmModels[c].mu[j],ax)\n",
    "        ax.axis('off')\n",
    "        if j==0:\n",
    "            ax.set_title(class_names[c]+'/'+str(j))\n",
    "        else:\n",
    "            ax.set_title('/'+str(j))\n",
    "    if handles:\n",
    "        return fig,axes"
   ]
  },
  {
   "cell_type": "code",
   "execution_count": 10,
   "metadata": {
    "scrolled": true
   },
   "outputs": [
    {
     "name": "stdout",
     "output_type": "stream",
     "text": [
      "Iteration 1 (final), log-likelihood: 25.3441\n",
      "================ class 0(tshirt/top), mixture of 1 diag Gaussians\n",
      "Iteration 1 (final), log-likelihood: 33.6805\n",
      "================ class 1(trouser), mixture of 1 diag Gaussians\n",
      "Iteration 1 (final), log-likelihood: 21.6420\n",
      "================ class 2(pullover), mixture of 1 diag Gaussians\n",
      "Iteration 1 (final), log-likelihood: 27.2816\n",
      "================ class 3(dress), mixture of 1 diag Gaussians\n",
      "Iteration 1 (final), log-likelihood: 20.5264\n",
      "================ class 4(coat), mixture of 1 diag Gaussians\n",
      "Iteration 1 (final), log-likelihood: 14.4172\n",
      "================ class 5(sandal), mixture of 1 diag Gaussians\n",
      "Iteration 1 (final), log-likelihood: 19.7654\n",
      "================ class 6(shirt), mixture of 1 diag Gaussians\n",
      "Iteration 1 (final), log-likelihood: 33.8118\n",
      "================ class 7(sneaker), mixture of 1 diag Gaussians\n",
      "Iteration 1 (final), log-likelihood: -8.1486\n",
      "================ class 8(bag), mixture of 1 diag Gaussians\n",
      "Iteration 1 (final), log-likelihood: 14.2545\n",
      "================ class 9(ankle boot), mixture of 1 diag Gaussians\n",
      "GMM-diag (1) accuracy:  0.6883  [ 0.6890 on train]\n"
     ]
    },
    {
     "data": {
      "image/png": "[encoded data removed]",
      "text/plain": [
       "<Figure size 432x288 with 1 Axes>"
      ]
     },
     "metadata": {
      "needs_background": "light"
     },
     "output_type": "display_data"
    },
    {
     "data": {
      "image/png": "[encoded data removed]",
      "text/plain": [
       "<Figure size 432x288 with 1 Axes>"
      ]
     },
     "metadata": {
      "needs_background": "light"
     },
     "output_type": "display_data"
    },
    {
     "data": {
      "image/png": "[encoded data removed]",
      "text/plain": [
       "<Figure size 432x288 with 1 Axes>"
      ]
     },
     "metadata": {
      "needs_background": "light"
     },
     "output_type": "display_data"
    },
    {
     "data": {
      "image/png": "[encoded data removed]",
      "text/plain": [
       "<Figure size 432x288 with 1 Axes>"
      ]
     },
     "metadata": {
      "needs_background": "light"
     },
     "output_type": "display_data"
    },
    {
     "data": {
      "image/png": "[encoded data removed]",
      "text/plain": [
       "<Figure size 432x288 with 1 Axes>"
      ]
     },
     "metadata": {
      "needs_background": "light"
     },
     "output_type": "display_data"
    },
    {
     "data": {
      "image/png": "[encoded data removed]",
      "text/plain": [
       "<Figure size 432x288 with 1 Axes>"
      ]
     },
     "metadata": {
      "needs_background": "light"
     },
     "output_type": "display_data"
    },
    {
     "data": {
      "image/png": "[encoded data removed]",
      "text/plain": [
       "<Figure size 432x288 with 1 Axes>"
      ]
     },
     "metadata": {
      "needs_background": "light"
     },
     "output_type": "display_data"
    },
    {
     "data": {
      "image/png": "[encoded data removed]",
      "text/plain": [
       "<Figure size 432x288 with 1 Axes>"
      ]
     },
     "metadata": {
      "needs_background": "light"
     },
     "output_type": "display_data"
    },
    {
     "data": {
      "image/png": "[encoded data removed]",
      "text/plain": [
       "<Figure size 432x288 with 1 Axes>"
      ]
     },
     "metadata": {
      "needs_background": "light"
     },
     "output_type": "display_data"
    },
    {
     "data": {
      "image/png": "[encoded data removed]",
      "text/plain": [
       "<Figure size 432x288 with 1 Axes>"
      ]
     },
     "metadata": {
      "needs_background": "light"
     },
     "output_type": "display_data"
    },
    {
     "name": "stdout",
     "output_type": "stream",
     "text": [
      "Iteration 20 (final), log-likelihood: 30.5622\n",
      "Iteration 8 (final), log-likelihood: 31.1831\n",
      "Iteration 16 (final), log-likelihood: 32.4231\n",
      "Iteration 19 (final), log-likelihood: 32.1300\n",
      "================ class 0(tshirt/top), mixture of 3 diag Gaussians\n",
      "Iteration 26 (final), log-likelihood: 41.6159\n",
      "Iteration 9 (final), log-likelihood: 40.7885\n",
      "Iteration 12 (final), log-likelihood: 40.4784\n",
      "Iteration 5 (final), log-likelihood: 40.0440\n",
      "================ class 1(trouser), mixture of 3 diag Gaussians\n",
      "Iteration 37 (final), log-likelihood: 33.0432\n",
      "Iteration 10 (final), log-likelihood: 31.5003\n",
      "Iteration 3 (final), log-likelihood: 31.3195\n",
      "Iteration 21 (final), log-likelihood: 30.4322\n",
      "================ class 2(pullover), mixture of 3 diag Gaussians\n",
      "Iteration 5 (final), log-likelihood: 34.8943\n",
      "Iteration 10 (final), log-likelihood: 35.3505\n",
      "Iteration 13 (final), log-likelihood: 34.6619\n",
      "Iteration 12 (final), log-likelihood: 34.4688\n",
      "================ class 3(dress), mixture of 3 diag Gaussians\n",
      "Iteration 6 (final), log-likelihood: 33.9802\n",
      "Iteration 23 (final), log-likelihood: 33.3330\n",
      "Iteration 10 (final), log-likelihood: 32.4307\n",
      "Iteration 14 (final), log-likelihood: 31.8566\n",
      "================ class 4(coat), mixture of 3 diag Gaussians\n",
      "Iteration 18 (final), log-likelihood: 24.1174\n",
      "Iteration 4 (final), log-likelihood: 24.9560\n",
      "Iteration 4 (final), log-likelihood: 24.1001\n",
      "Iteration 8 (final), log-likelihood: 24.9562\n",
      "================ class 5(sandal), mixture of 3 diag Gaussians\n",
      "Iteration 12 (final), log-likelihood: 30.3397\n",
      "Iteration 7 (final), log-likelihood: 30.8985\n",
      "Iteration 23 (final), log-likelihood: 29.4776\n",
      "Iteration 8 (final), log-likelihood: 29.5333\n",
      "================ class 6(shirt), mixture of 3 diag Gaussians\n",
      "Iteration 16 (final), log-likelihood: 41.0499\n",
      "Iteration 22 (final), log-likelihood: 40.6109\n",
      "Iteration 5 (final), log-likelihood: 40.3512\n",
      "Iteration 7 (final), log-likelihood: 40.1622\n",
      "================ class 7(sneaker), mixture of 3 diag Gaussians\n",
      "Iteration 14 (final), log-likelihood: 18.6813\n",
      "Iteration 8 (final), log-likelihood: 17.4926\n",
      "Iteration 26 (final), log-likelihood: 16.4580\n",
      "Iteration 31 (final), log-likelihood: 17.0668\n",
      "================ class 8(bag), mixture of 3 diag Gaussians\n",
      "Iteration 16 (final), log-likelihood: 29.3102\n",
      "Iteration 17 (final), log-likelihood: 28.6852\n",
      "Iteration 16 (final), log-likelihood: 28.1525\n",
      "Iteration 10 (final), log-likelihood: 27.8237\n",
      "================ class 9(ankle boot), mixture of 3 diag Gaussians\n",
      "GMM-diag (3) accuracy:  0.7503  [ 0.7562 on train]\n"
     ]
    },
    {
     "data": {
      "image/png": "[encoded data removed]",
      "text/plain": [
       "<Figure size 432x288 with 3 Axes>"
      ]
     },
     "metadata": {
      "needs_background": "light"
     },
     "output_type": "display_data"
    },
    {
     "data": {
      "image/png": "[encoded data removed]",
      "text/plain": [
       "<Figure size 432x288 with 3 Axes>"
      ]
     },
     "metadata": {
      "needs_background": "light"
     },
     "output_type": "display_data"
    },
    {
     "data": {
      "image/png": "[encoded data removed]",
      "text/plain": [
       "<Figure size 432x288 with 3 Axes>"
      ]
     },
     "metadata": {
      "needs_background": "light"
     },
     "output_type": "display_data"
    },
    {
     "data": {
      "image/png": "[encoded data removed]",
      "text/plain": [
       "<Figure size 432x288 with 3 Axes>"
      ]
     },
     "metadata": {
      "needs_background": "light"
     },
     "output_type": "display_data"
    },
    {
     "data": {
      "image/png": "[encoded data removed]",
      "text/plain": [
       "<Figure size 432x288 with 3 Axes>"
      ]
     },
     "metadata": {
      "needs_background": "light"
     },
     "output_type": "display_data"
    },
    {
     "data": {
      "image/png": "[encoded data removed]",
      "text/plain": [
       "<Figure size 432x288 with 3 Axes>"
      ]
     },
     "metadata": {
      "needs_background": "light"
     },
     "output_type": "display_data"
    },
    {
     "data": {
      "image/png": "[encoded data removed]",
      "text/plain": [
       "<Figure size 432x288 with 3 Axes>"
      ]
     },
     "metadata": {
      "needs_background": "light"
     },
     "output_type": "display_data"
    },
    {
     "data": {
      "image/png": "[encoded data removed]",
      "text/plain": [
       "<Figure size 432x288 with 3 Axes>"
      ]
     },
     "metadata": {
      "needs_background": "light"
     },
     "output_type": "display_data"
    },
    {
     "data": {
      "image/png": "[encoded data removed]",
      "text/plain": [
       "<Figure size 432x288 with 3 Axes>"
      ]
     },
     "metadata": {
      "needs_background": "light"
     },
     "output_type": "display_data"
    },
    {
     "data": {
      "image/png": "[encoded data removed]",
      "text/plain": [
       "<Figure size 432x288 with 3 Axes>"
      ]
     },
     "metadata": {
      "needs_background": "light"
     },
     "output_type": "display_data"
    }
   ],
   "source": [
    "ks=[1,3]\n",
    "gmmacc=dict()\n",
    "gmmaccTrain=dict()\n",
    "\n",
    "for k in ks:\n",
    "    mmodels=dict()\n",
    "    \n",
    "    for y in range(10):\n",
    "        mmodels[y] = GaussianMixtureModel(classData[y], k, max_iter=40, eps=.1,cov_type='diag')\n",
    "        if k==1:\n",
    "            rs=[1]\n",
    "        else:\n",
    "            rs=[.05,.1,.25,1]    \n",
    "        mmodels[y].trainFast(classData[y],verbose='final',rs=rs)\n",
    "        print('================ class '+str(y)+'('+class_names[y]+'), mixture of %d diag Gaussians'%k)\n",
    "        \n",
    "    gmmacc[k], _ = get_accuracy(mmodels,xVal,yVal)\n",
    "    gmmaccTrain[k], _ = get_accuracy(mmodels,xTrain,yTrain)\n",
    "    print('GMM-diag (%d) accuracy:  %.4f  [ %.4f on train]'%(k,gmmacc[k],gmmaccTrain[k]))\n",
    "    for y in range(10):\n",
    "        showMeans(mmodels,y)\n",
    "\n",
    "        plt.show()\n"
   ]
  },
  {
   "cell_type": "code",
   "execution_count": 11,
   "metadata": {},
   "outputs": [
    {
     "name": "stdout",
     "output_type": "stream",
     "text": [
      "Iteration 1 (final), log-likelihood: -4885.9239\n",
      "================ class 0(tshirt/top), mixture of 1 full Gaussians\n"
     ]
    },
    {
     "data": {
      "image/png": "[encoded data removed]",
      "text/plain": [
       "<Figure size 432x288 with 1 Axes>"
      ]
     },
     "metadata": {
      "needs_background": "light"
     },
     "output_type": "display_data"
    },
    {
     "name": "stdout",
     "output_type": "stream",
     "text": [
      "Iteration 1 (final), log-likelihood: -2476.7506\n",
      "================ class 1(trouser), mixture of 1 full Gaussians\n"
     ]
    },
    {
     "data": {
      "image/png": "[encoded data removed]",
      "text/plain": [
       "<Figure size 432x288 with 1 Axes>"
      ]
     },
     "metadata": {
      "needs_background": "light"
     },
     "output_type": "display_data"
    },
    {
     "name": "stdout",
     "output_type": "stream",
     "text": [
      "Iteration 1 (final), log-likelihood: -5637.7630\n",
      "================ class 2(pullover), mixture of 1 full Gaussians\n"
     ]
    },
    {
     "data": {
      "image/png": "[encoded data removed]",
      "text/plain": [
       "<Figure size 432x288 with 1 Axes>"
      ]
     },
     "metadata": {
      "needs_background": "light"
     },
     "output_type": "display_data"
    },
    {
     "name": "stdout",
     "output_type": "stream",
     "text": [
      "Iteration 1 (final), log-likelihood: -3939.3134\n",
      "================ class 3(dress), mixture of 1 full Gaussians\n"
     ]
    },
    {
     "data": {
      "image/png": "[encoded data removed]",
      "text/plain": [
       "<Figure size 432x288 with 1 Axes>"
      ]
     },
     "metadata": {
      "needs_background": "light"
     },
     "output_type": "display_data"
    },
    {
     "name": "stdout",
     "output_type": "stream",
     "text": [
      "Iteration 1 (final), log-likelihood: -4897.7037\n",
      "================ class 4(coat), mixture of 1 full Gaussians\n"
     ]
    },
    {
     "data": {
      "image/png": "[encoded data removed]",
      "text/plain": [
       "<Figure size 432x288 with 1 Axes>"
      ]
     },
     "metadata": {
      "needs_background": "light"
     },
     "output_type": "display_data"
    },
    {
     "name": "stdout",
     "output_type": "stream",
     "text": [
      "Iteration 1 (final), log-likelihood: -4391.7254\n",
      "================ class 5(sandal), mixture of 1 full Gaussians\n"
     ]
    },
    {
     "data": {
      "image/png": "[encoded data removed]",
      "text/plain": [
       "<Figure size 432x288 with 1 Axes>"
      ]
     },
     "metadata": {
      "needs_background": "light"
     },
     "output_type": "display_data"
    },
    {
     "name": "stdout",
     "output_type": "stream",
     "text": [
      "Iteration 1 (final), log-likelihood: -5892.1592\n",
      "================ class 6(shirt), mixture of 1 full Gaussians\n"
     ]
    },
    {
     "data": {
      "image/png": "[encoded data removed]",
      "text/plain": [
       "<Figure size 432x288 with 1 Axes>"
      ]
     },
     "metadata": {
      "needs_background": "light"
     },
     "output_type": "display_data"
    },
    {
     "name": "stdout",
     "output_type": "stream",
     "text": [
      "Iteration 1 (final), log-likelihood: -2432.7564\n",
      "================ class 7(sneaker), mixture of 1 full Gaussians\n"
     ]
    },
    {
     "data": {
      "image/png": "[encoded data removed]",
      "text/plain": [
       "<Figure size 432x288 with 1 Axes>"
      ]
     },
     "metadata": {
      "needs_background": "light"
     },
     "output_type": "display_data"
    },
    {
     "name": "stdout",
     "output_type": "stream",
     "text": [
      "Iteration 1 (final), log-likelihood: -7756.2991\n",
      "================ class 8(bag), mixture of 1 full Gaussians\n"
     ]
    },
    {
     "data": {
      "image/png": "[encoded data removed]",
      "text/plain": [
       "<Figure size 432x288 with 1 Axes>"
      ]
     },
     "metadata": {
      "needs_background": "light"
     },
     "output_type": "display_data"
    },
    {
     "name": "stdout",
     "output_type": "stream",
     "text": [
      "Iteration 1 (final), log-likelihood: -4753.3369\n",
      "================ class 9(ankle boot), mixture of 1 full Gaussians\n"
     ]
    },
    {
     "data": {
      "image/png": "[encoded data removed]",
      "text/plain": [
       "<Figure size 432x288 with 1 Axes>"
      ]
     },
     "metadata": {
      "needs_background": "light"
     },
     "output_type": "display_data"
    },
    {
     "name": "stdout",
     "output_type": "stream",
     "text": [
      "GMM-full (1) accuracy:  0.6737  [ 0.6778 on train]\n",
      "Iteration 5 (final), log-likelihood: -1856.2943\n",
      "Iteration 4 (final), log-likelihood: -1871.0064\n",
      "Iteration 4 (final), log-likelihood: -1982.4026\n",
      "Iteration 2 (final), log-likelihood: -2041.7836\n",
      "================ class 0(tshirt/top), mixture of 3 full Gaussians\n"
     ]
    },
    {
     "data": {
      "image/png": "[encoded data removed]",
      "text/plain": [
       "<Figure size 432x288 with 3 Axes>"
      ]
     },
     "metadata": {
      "needs_background": "light"
     },
     "output_type": "display_data"
    },
    {
     "name": "stdout",
     "output_type": "stream",
     "text": [
      "Iteration 8 (final), log-likelihood: -1168.6956\n",
      "Iteration 11 (final), log-likelihood: -1168.1376\n",
      "Iteration 8 (final), log-likelihood: -1320.9625\n",
      "Iteration 4 (final), log-likelihood: -1321.6650\n",
      "================ class 1(trouser), mixture of 3 full Gaussians\n"
     ]
    },
    {
     "data": {
      "image/png": "[encoded data removed]",
      "text/plain": [
       "<Figure size 432x288 with 3 Axes>"
      ]
     },
     "metadata": {
      "needs_background": "light"
     },
     "output_type": "display_data"
    },
    {
     "name": "stdout",
     "output_type": "stream",
     "text": [
      "Iteration 6 (final), log-likelihood: -2295.8695\n",
      "Iteration 10 (final), log-likelihood: -2268.4114\n",
      "Iteration 5 (final), log-likelihood: -2336.1475\n",
      "Iteration 5 (final), log-likelihood: -2327.8576\n",
      "================ class 2(pullover), mixture of 3 full Gaussians\n"
     ]
    },
    {
     "data": {
      "image/png": "[encoded data removed]",
      "text/plain": [
       "<Figure size 432x288 with 3 Axes>"
      ]
     },
     "metadata": {
      "needs_background": "light"
     },
     "output_type": "display_data"
    },
    {
     "name": "stdout",
     "output_type": "stream",
     "text": [
      "Iteration 11 (final), log-likelihood: -2166.2729\n",
      "Iteration 5 (final), log-likelihood: -2098.7146\n",
      "Iteration 8 (final), log-likelihood: -2078.7585\n",
      "Iteration 5 (final), log-likelihood: -2036.6543\n",
      "================ class 3(dress), mixture of 3 full Gaussians\n"
     ]
    },
    {
     "data": {
      "image/png": "[encoded data removed]",
      "text/plain": [
       "<Figure size 432x288 with 3 Axes>"
      ]
     },
     "metadata": {
      "needs_background": "light"
     },
     "output_type": "display_data"
    },
    {
     "name": "stdout",
     "output_type": "stream",
     "text": [
      "Iteration 5 (final), log-likelihood: -2430.2617\n",
      "Iteration 29 (final), log-likelihood: -2347.2778\n",
      "Iteration 7 (final), log-likelihood: -2359.7849\n",
      "Iteration 4 (final), log-likelihood: -2293.9483\n",
      "================ class 4(coat), mixture of 3 full Gaussians\n"
     ]
    },
    {
     "data": {
      "image/png": "[encoded data removed]",
      "text/plain": [
       "<Figure size 432x288 with 3 Axes>"
      ]
     },
     "metadata": {
      "needs_background": "light"
     },
     "output_type": "display_data"
    },
    {
     "name": "stdout",
     "output_type": "stream",
     "text": [
      "Iteration 11 (final), log-likelihood: -2995.5127\n",
      "Iteration 12 (final), log-likelihood: -2930.5435\n",
      "Iteration 3 (final), log-likelihood: -2900.8431\n",
      "Iteration 8 (final), log-likelihood: -2866.8679\n",
      "================ class 5(sandal), mixture of 3 full Gaussians\n"
     ]
    },
    {
     "data": {
      "image/png": "[encoded data removed]",
      "text/plain": [
       "<Figure size 432x288 with 3 Axes>"
      ]
     },
     "metadata": {
      "needs_background": "light"
     },
     "output_type": "display_data"
    },
    {
     "name": "stdout",
     "output_type": "stream",
     "text": [
      "Iteration 9 (final), log-likelihood: -2118.1819\n",
      "Iteration 3 (final), log-likelihood: -2288.0992\n",
      "Iteration 2 (final), log-likelihood: -2371.6867\n",
      "Iteration 2 (final), log-likelihood: -2315.8778\n",
      "================ class 6(shirt), mixture of 3 full Gaussians\n"
     ]
    },
    {
     "data": {
      "image/png": "[encoded data removed]",
      "text/plain": [
       "<Figure size 432x288 with 3 Axes>"
      ]
     },
     "metadata": {
      "needs_background": "light"
     },
     "output_type": "display_data"
    },
    {
     "name": "stdout",
     "output_type": "stream",
     "text": [
      "Iteration 13 (final), log-likelihood: -1330.4977\n",
      "Iteration 8 (final), log-likelihood: -1282.7874\n",
      "Iteration 3 (final), log-likelihood: -1298.2610\n",
      "Iteration 3 (final), log-likelihood: -1326.2053\n",
      "================ class 7(sneaker), mixture of 3 full Gaussians\n"
     ]
    },
    {
     "data": {
      "image/png": "[encoded data removed]",
      "text/plain": [
       "<Figure size 432x288 with 3 Axes>"
      ]
     },
     "metadata": {
      "needs_background": "light"
     },
     "output_type": "display_data"
    },
    {
     "name": "stdout",
     "output_type": "stream",
     "text": [
      "Iteration 8 (final), log-likelihood: -3404.9677\n",
      "Iteration 6 (final), log-likelihood: -3585.8177\n",
      "Iteration 6 (final), log-likelihood: -3733.1625\n",
      "Iteration 4 (final), log-likelihood: -3724.7878\n",
      "================ class 8(bag), mixture of 3 full Gaussians\n"
     ]
    },
    {
     "data": {
      "image/png": "[encoded data removed]",
      "text/plain": [
       "<Figure size 432x288 with 3 Axes>"
      ]
     },
     "metadata": {
      "needs_background": "light"
     },
     "output_type": "display_data"
    },
    {
     "name": "stdout",
     "output_type": "stream",
     "text": [
      "Iteration 8 (final), log-likelihood: -2518.5408\n",
      "Iteration 4 (final), log-likelihood: -2595.1351\n",
      "Iteration 2 (final), log-likelihood: -2551.9634\n",
      "Iteration 7 (final), log-likelihood: -2499.2488\n",
      "================ class 9(ankle boot), mixture of 3 full Gaussians\n"
     ]
    },
    {
     "data": {
      "image/png": "[encoded data removed]",
      "text/plain": [
       "<Figure size 432x288 with 3 Axes>"
      ]
     },
     "metadata": {
      "needs_background": "light"
     },
     "output_type": "display_data"
    },
    {
     "name": "stdout",
     "output_type": "stream",
     "text": [
      "GMM-full (3) accuracy:  0.7494  [ 0.7536 on train]\n"
     ]
    }
   ],
   "source": [
    "ks=[1,3]\n",
    "gmmacc=dict()\n",
    "gmmaccTrain=dict()\n",
    "\n",
    "for k in ks:\n",
    "    mmodels=dict() \n",
    "    for y in range(10):\n",
    "        mmodels[y] = GaussianMixtureModel(classData[y], k, max_iter=30, cov_type='full',eps=1e-3)\n",
    "        if k==1:\n",
    "            rs=[1]\n",
    "        else:\n",
    "            rs=[.05,.1,.25,1] \n",
    "        mmodels[y].trainFast(classData[y],verbose='final',rs=rs)\n",
    "        print('================ class '+str(y)+'('+class_names[y]+'), mixture of %d full Gaussians'%k)\n",
    "        showMeans(mmodels,y)\n",
    "        plt.show()\n",
    "        \n",
    "    gmmacc[k], _ = get_accuracy(mmodels,xVal,yVal)\n",
    "    gmmaccTrain[k], _ = get_accuracy(mmodels,xTrain,yTrain)\n",
    "    print('GMM-full (%d) accuracy:  %.4f  [ %.4f on train]'%(k,gmmacc[k],gmmaccTrain[k]))\n",
    "    "
   ]
  },
  {
   "cell_type": "markdown",
   "metadata": {},
   "source": [
    "Things to do:\n",
    "- fill in the code to run the training above, which fits models with 1 and 3 Gaussian components, for both diagonal and full covariance matrices\n",
    "- decide on any improvements/extensions to initialization, covariance matrix restrictions, convergence criteria, varying number of components across classes, etc., and try them out\n",
    "- discuss trends you observe across settings, both in terms of train/val accuracy and in terms of the visualizations"
   ]
  },
  {
   "cell_type": "markdown",
   "metadata": {},
   "source": [
    "| Model Type | Train Acc. | Validation Acc. |\n",
    "| --- | --- | --- |\n",
    "| 1 Gaussian Diag | 0.6890 | 0.6883 |\n",
    "| 1 Gaussian Full | 0.6778 | 0.6737 |\n",
    "| 3 Gaussian Diag | 0.7562 | 0.7503 |\n",
    "| 3 Gaussian Full | 0.7536 | 0.7494 |"
   ]
  },
  {
   "cell_type": "markdown",
   "metadata": {},
   "source": [
    "- The best model (from validation accuracy) is: 3 Gaussian with a diagonal covariance matrix. <br/>\n",
    "- Corresponding best validation accuracy is 75.03%. <br/>\n",
    "- In both cases the diagonal variance is better than the full variance matrix and 3 Gaussian components is better than 1. <br/>\n",
    "- From the visualized cluster, in both cases diagonal produces better results than full covariance matrix. We also notice that 3 Gaussian case has a slightly lesser percentage of misclassification as compared to the 1 Gaussian case."
   ]
  }
 ],
 "metadata": {
  "kernelspec": {
   "display_name": "Python 3",
   "language": "python",
   "name": "python3"
  },
  "language_info": {
   "codemirror_mode": {
    "name": "ipython",
    "version": 3
   },
   "file_extension": ".py",
   "mimetype": "text/x-python",
   "name": "python",
   "nbconvert_exporter": "python",
   "pygments_lexer": "ipython3",
   "version": "3.7.1"
  }
 },
 "nbformat": 4,
 "nbformat_minor": 1
}
